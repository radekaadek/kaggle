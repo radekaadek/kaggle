{
 "cells": [
  {
   "cell_type": "markdown",
   "metadata": {},
   "source": [
    "# Source\n",
    "https://www.kaggle.com/datasets/whenamancodes/speed-dating"
   ]
  }
 ],
 "metadata": {
  "kernelspec": {
   "display_name": "Python 3.11.0 64-bit",
   "language": "python",
   "name": "python3"
  },
  "language_info": {
   "name": "python",
   "version": "3.11.0"
  },
  "orig_nbformat": 4,
  "vscode": {
   "interpreter": {
    "hash": "58171bfd727faba4a1397276f35ae7a0b9bbbffe36499647c9df1e550bc76aca"
   }
  }
 },
 "nbformat": 4,
 "nbformat_minor": 2
}
